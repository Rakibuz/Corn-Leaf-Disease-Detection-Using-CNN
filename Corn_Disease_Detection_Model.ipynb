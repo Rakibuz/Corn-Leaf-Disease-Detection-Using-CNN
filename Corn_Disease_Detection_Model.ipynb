{
 "cells": [
  {
   "cell_type": "code",
   "execution_count": 43,
   "metadata": {},
   "outputs": [],
   "source": [
    "import pandas as pd\n",
    "import cv2 as cv\n",
    "import numpy as np\n",
    "import matplotlib.pyplot as plt\n",
    "import os\n",
    "import seaborn as sns\n",
    "from tensorflow import keras \n",
    "import tensorflow as tf"
   ]
  },
  {
   "cell_type": "markdown",
   "metadata": {},
   "source": [
    "# Dataset Loading"
   ]
  },
  {
   "cell_type": "code",
   "execution_count": 44,
   "metadata": {},
   "outputs": [],
   "source": [
    "train_data_path=r\"F:\\BD MSc\\Jahangirnagar MSc\\MSc Research\\Leaf Disease\\Corn Leaves Diseases Detection\\Implementation\\data\\Train\"\n",
    "test_data_path=r\"F:\\BD MSc\\Jahangirnagar MSc\\MSc Research\\Leaf Disease\\Corn Leaves Diseases Detection\\Implementation\\Augmented Data\""
   ]
  },
  {
   "cell_type": "markdown",
   "metadata": {},
   "source": [
    "# Train & Test Data Separation"
   ]
  },
  {
   "cell_type": "code",
   "execution_count": 45,
   "metadata": {},
   "outputs": [],
   "source": [
    "CATEGORIES=[\"Blight\",\"Common_Rust\",\"Gray_Leaf_Spot\",\"Eyespot\",\"Healthy\"]"
   ]
  },
  {
   "cell_type": "code",
   "execution_count": 46,
   "metadata": {},
   "outputs": [],
   "source": [
    "train_data=[] #List of the data for training\n",
    "\n",
    "for category in CATEGORIES:\n",
    "        label=CATEGORIES.index(category)\n",
    "        path=os.path.join(train_data_path,category)\n",
    "        for img_file in os.listdir(path):\n",
    "            img=cv.imread(os.path.join(path,img_file),1)\n",
    "            img=cv.cvtColor(img,cv.COLOR_BGR2RGB)\n",
    "            img=cv.resize(img,(64,64))            \n",
    "            train_data.append([img,label])"
   ]
  },
  {
   "cell_type": "code",
   "execution_count": 47,
   "metadata": {},
   "outputs": [],
   "source": [
    "test_data=[] #List of the data for test\n",
    "for category in CATEGORIES:\n",
    "        label=CATEGORIES.index(category)\n",
    "        path=os.path.join(test_data_path,category)\n",
    "        for img_file in os.listdir(path):\n",
    "            img=cv.imread(os.path.join(path,img_file),1)\n",
    "            img=cv.cvtColor(img,cv.COLOR_BGR2RGB)\n",
    "            img=cv.resize(img,(64,64))\n",
    "            test_data.append([img,label])"
   ]
  },
  {
   "cell_type": "code",
   "execution_count": 48,
   "metadata": {},
   "outputs": [
    {
     "name": "stdout",
     "output_type": "stream",
     "text": [
      "4374\n",
      "4692\n"
     ]
    }
   ],
   "source": [
    "print(len(train_data))\n",
    "print(len(test_data))"
   ]
  },
  {
   "cell_type": "code",
   "execution_count": 49,
   "metadata": {},
   "outputs": [],
   "source": [
    "import random\n",
    "random.shuffle(train_data)\n",
    "random.shuffle(test_data)"
   ]
  },
  {
   "cell_type": "markdown",
   "metadata": {},
   "source": [
    "# Test Train Split"
   ]
  },
  {
   "cell_type": "code",
   "execution_count": 50,
   "metadata": {},
   "outputs": [],
   "source": [
    "X_train=[]\n",
    "y_train=[]"
   ]
  },
  {
   "cell_type": "code",
   "execution_count": 51,
   "metadata": {},
   "outputs": [],
   "source": [
    "for features,label in train_data:\n",
    "    X_train.append(features)\n",
    "    y_train.append(label)"
   ]
  },
  {
   "cell_type": "code",
   "execution_count": 52,
   "metadata": {},
   "outputs": [
    {
     "data": {
      "text/plain": [
       "(4374, 4374)"
      ]
     },
     "execution_count": 52,
     "metadata": {},
     "output_type": "execute_result"
    }
   ],
   "source": [
    "Y=[]\n",
    "for i in y_train:\n",
    "    if i==0:\n",
    "        Y.append(\"Blight\")\n",
    "    elif i==1:\n",
    "        Y.append(\"Common_Rust\")\n",
    "    elif i==2:\n",
    "        Y.append(\"Gray_Leaf_Spot\")\n",
    "    elif i==3:\n",
    "        Y.append(\"Eyespot\")\n",
    "    else:\n",
    "        Y.append(\"Healthy\")\n",
    "    \n",
    "\n",
    "len(X_train),len(y_train)"
   ]
  },
  {
   "cell_type": "code",
   "execution_count": 53,
   "metadata": {},
   "outputs": [
    {
     "data": {
      "text/plain": [
       "(4692, 4692)"
      ]
     },
     "execution_count": 53,
     "metadata": {},
     "output_type": "execute_result"
    }
   ],
   "source": [
    "X_test=[]\n",
    "y_test=[]\n",
    "\n",
    "for features,label in test_data:\n",
    "    X_test.append(features)\n",
    "    y_test.append(label)\n",
    "    \n",
    "Z=[]\n",
    "for i in y_test:\n",
    "    if i==0:\n",
    "        Z.append(\"Blight\")\n",
    "    elif i==1:\n",
    "        Z.append(\"Common_Rust\")\n",
    "    elif i==2:\n",
    "        Z.append(\"Gray_Leaf_Spot\")\n",
    "    elif i==3:\n",
    "        Z.append(\"Eyespot\")\n",
    "    else:\n",
    "        Z.append(\"Healthy\")\n",
    "\n",
    "len(X_test),len(y_test)"
   ]
  },
  {
   "cell_type": "markdown",
   "metadata": {},
   "source": [
    "# Reshaping Test&Train Data"
   ]
  },
  {
   "cell_type": "code",
   "execution_count": 54,
   "metadata": {},
   "outputs": [
    {
     "data": {
      "text/plain": [
       "(4374, 64, 64, 3)"
      ]
     },
     "execution_count": 54,
     "metadata": {},
     "output_type": "execute_result"
    }
   ],
   "source": [
    "X_train=np.array(X_train).reshape(-1,64,64,3)\n",
    "X_train=X_train/255.0\n",
    "X_train.shape"
   ]
  },
  {
   "cell_type": "code",
   "execution_count": 55,
   "metadata": {},
   "outputs": [
    {
     "data": {
      "text/plain": [
       "(4692, 64, 64, 3)"
      ]
     },
     "execution_count": 55,
     "metadata": {},
     "output_type": "execute_result"
    }
   ],
   "source": [
    "X_test=np.array(X_test).reshape(-1,64,64,3)\n",
    "X_test=X_test/255.0\n",
    "X_test.shape"
   ]
  },
  {
   "cell_type": "markdown",
   "metadata": {},
   "source": [
    "# Data Visualization"
   ]
  },
  {
   "cell_type": "code",
   "execution_count": 56,
   "metadata": {},
   "outputs": [],
   "source": [
    "order=[\"Blight\",\"Common_Rust\",\"Gray_Leaf_Spot\",\"Eyespot\",\"Healthy\"]"
   ]
  },
  {
   "cell_type": "code",
   "execution_count": 58,
   "metadata": {},
   "outputs": [
    {
     "data": {
      "text/plain": [
       "Text(0, 0.5, 'Image Count')"
      ]
     },
     "execution_count": 58,
     "metadata": {},
     "output_type": "execute_result"
    },
    {
     "data": {
      "image/png": "[encoded data removed]",
      "text/plain": [
       "<Figure size 432x288 with 1 Axes>"
      ]
     },
     "metadata": {
      "needs_background": "light"
     },
     "output_type": "display_data"
    }
   ],
   "source": [
    "ax=sns.countplot(Y, order=order)\n",
    "ax.set_xlabel(\"Leaf Diseases\")\n",
    "ax.set_xticklabels(ax.get_xticklabels(), rotation=40, ha='right')\n",
    "ax.set_ylabel(\"Image Count\")"
   ]
  },
  {
   "cell_type": "code",
   "execution_count": 59,
   "metadata": {},
   "outputs": [
    {
     "data": {
      "text/plain": [
       "Text(0, 0.5, 'Image Count')"
      ]
     },
     "execution_count": 59,
     "metadata": {},
     "output_type": "execute_result"
    },
    {
     "data": {
      "image/png": "[encoded data removed]",
      "text/plain": [
       "<Figure size 432x288 with 1 Axes>"
      ]
     },
     "metadata": {
      "needs_background": "light"
     },
     "output_type": "display_data"
    }
   ],
   "source": [
    "ax=sns.countplot(Z, order=order)\n",
    "ax.set_xlabel(\"Leaf Diseases\")\n",
    "ax.set_xticklabels(ax.get_xticklabels(), rotation=40, ha='right')\n",
    "ax.set_ylabel(\"Image Count\")"
   ]
  },
  {
   "cell_type": "markdown",
   "metadata": {},
   "source": [
    "# Converting dataset labels vector to categorical data matrix"
   ]
  },
  {
   "cell_type": "code",
   "execution_count": 60,
   "metadata": {},
   "outputs": [
    {
     "data": {
      "text/plain": [
       "array([[0., 0., 1., 0., 0.],\n",
       "       [0., 1., 0., 0., 0.],\n",
       "       [1., 0., 0., 0., 0.],\n",
       "       ...,\n",
       "       [1., 0., 0., 0., 0.],\n",
       "       [1., 0., 0., 0., 0.],\n",
       "       [0., 1., 0., 0., 0.]], dtype=float32)"
      ]
     },
     "execution_count": 60,
     "metadata": {},
     "output_type": "execute_result"
    }
   ],
   "source": [
    "from tensorflow.keras.utils import to_categorical\n",
    "\n",
    "one_hot_train=to_categorical(y_train)\n",
    "one_hot_train\n",
    "\n",
    "one_hot_test=to_categorical(y_test)\n",
    "one_hot_test"
   ]
  },
  {
   "cell_type": "markdown",
   "metadata": {},
   "source": [
    "# Building Convolutional Neural Network"
   ]
  },
  {
   "cell_type": "code",
   "execution_count": 61,
   "metadata": {},
   "outputs": [],
   "source": [
    "from tensorflow.keras import layers\n",
    "from tensorflow.keras.models import Sequential\n",
    "from tensorflow.keras.layers import Conv2D,Dense,Flatten,MaxPooling2D,Dropout"
   ]
  },
  {
   "cell_type": "code",
   "execution_count": 62,
   "metadata": {},
   "outputs": [],
   "source": [
    "classifier=Sequential()\n",
    "\n",
    "classifier.add(Conv2D(32,(3,3), input_shape=(64,64,3), activation='relu'))\n",
    "classifier.add(MaxPooling2D(pool_size=(2,2)))\n",
    "classifier.add(Dropout(0.2))\n",
    "\n",
    "classifier.add(Conv2D(64,(3,3), activation='relu'))\n",
    "classifier.add(MaxPooling2D(pool_size=(2,2)))\n",
    "classifier.add(Dropout(0.2))\n",
    "\n",
    "classifier.add(Conv2D(128,(3,3), activation='relu'))\n",
    "classifier.add(MaxPooling2D(pool_size=(2,2)))\n",
    "classifier.add(Dropout(0.4))\n",
    "\n",
    "classifier.add(Flatten())\n",
    "\n",
    "classifier.add(Dense(activation='relu', units=64))\n",
    "classifier.add(Dense(activation='relu', units=128))\n",
    "classifier.add(Dense(activation='relu', units=64))\n",
    "classifier.add(Dense(activation='softmax', units=5))"
   ]
  },
  {
   "cell_type": "code",
   "execution_count": 63,
   "metadata": {},
   "outputs": [],
   "source": [
    "classifier.compile(optimizer='adam', loss='categorical_crossentropy', metrics=['accuracy'])"
   ]
  },
  {
   "cell_type": "code",
   "execution_count": 64,
   "metadata": {},
   "outputs": [
    {
     "name": "stdout",
     "output_type": "stream",
     "text": [
      "Model: \"sequential_3\"\n",
      "_________________________________________________________________\n",
      "Layer (type)                 Output Shape              Param #   \n",
      "=================================================================\n",
      "conv2d_9 (Conv2D)            (None, 62, 62, 32)        896       \n",
      "_________________________________________________________________\n",
      "max_pooling2d_9 (MaxPooling2 (None, 31, 31, 32)        0         \n",
      "_________________________________________________________________\n",
      "dropout_9 (Dropout)          (None, 31, 31, 32)        0         \n",
      "_________________________________________________________________\n",
      "conv2d_10 (Conv2D)           (None, 29, 29, 64)        18496     \n",
      "_________________________________________________________________\n",
      "max_pooling2d_10 (MaxPooling (None, 14, 14, 64)        0         \n",
      "_________________________________________________________________\n",
      "dropout_10 (Dropout)         (None, 14, 14, 64)        0         \n",
      "_________________________________________________________________\n",
      "conv2d_11 (Conv2D)           (None, 12, 12, 128)       73856     \n",
      "_________________________________________________________________\n",
      "max_pooling2d_11 (MaxPooling (None, 6, 6, 128)         0         \n",
      "_________________________________________________________________\n",
      "dropout_11 (Dropout)         (None, 6, 6, 128)         0         \n",
      "_________________________________________________________________\n",
      "flatten_3 (Flatten)          (None, 4608)              0         \n",
      "_________________________________________________________________\n",
      "dense_12 (Dense)             (None, 64)                294976    \n",
      "_________________________________________________________________\n",
      "dense_13 (Dense)             (None, 128)               8320      \n",
      "_________________________________________________________________\n",
      "dense_14 (Dense)             (None, 64)                8256      \n",
      "_________________________________________________________________\n",
      "dense_15 (Dense)             (None, 5)                 325       \n",
      "=================================================================\n",
      "Total params: 405,125\n",
      "Trainable params: 405,125\n",
      "Non-trainable params: 0\n",
      "_________________________________________________________________\n"
     ]
    }
   ],
   "source": [
    "classifier.summary()"
   ]
  },
  {
   "cell_type": "code",
   "execution_count": 65,
   "metadata": {},
   "outputs": [
    {
     "name": "stdout",
     "output_type": "stream",
     "text": [
      "Epoch 1/15\n",
      "28/28 [==============================] - 110s 4s/step - loss: 1.3977 - accuracy: 0.3667 - val_loss: 1.1649 - val_accuracy: 0.4686\n",
      "Epoch 2/15\n",
      "28/28 [==============================] - 25s 905ms/step - loss: 0.7500 - accuracy: 0.7085 - val_loss: 0.7185 - val_accuracy: 0.7006\n",
      "Epoch 3/15\n",
      "28/28 [==============================] - 25s 910ms/step - loss: 0.5515 - accuracy: 0.7788 - val_loss: 0.4957 - val_accuracy: 0.8171\n",
      "Epoch 4/15\n",
      "28/28 [==============================] - 25s 881ms/step - loss: 0.5060 - accuracy: 0.7891 - val_loss: 0.5095 - val_accuracy: 0.8069\n",
      "Epoch 5/15\n",
      "28/28 [==============================] - 24s 866ms/step - loss: 0.4335 - accuracy: 0.8202 - val_loss: 0.4552 - val_accuracy: 0.8103\n",
      "Epoch 6/15\n",
      "28/28 [==============================] - 24s 841ms/step - loss: 0.4032 - accuracy: 0.8328 - val_loss: 0.3984 - val_accuracy: 0.8354\n",
      "Epoch 7/15\n",
      "28/28 [==============================] - 25s 885ms/step - loss: 0.3792 - accuracy: 0.8417 - val_loss: 0.3761 - val_accuracy: 0.8491\n",
      "Epoch 8/15\n",
      "28/28 [==============================] - 25s 897ms/step - loss: 0.3496 - accuracy: 0.8565 - val_loss: 0.3443 - val_accuracy: 0.8651\n",
      "Epoch 9/15\n",
      "28/28 [==============================] - 26s 924ms/step - loss: 0.3413 - accuracy: 0.8571 - val_loss: 0.3627 - val_accuracy: 0.8423\n",
      "Epoch 10/15\n",
      "28/28 [==============================] - 26s 924ms/step - loss: 0.3334 - accuracy: 0.8682 - val_loss: 0.3411 - val_accuracy: 0.8617\n",
      "Epoch 11/15\n",
      "28/28 [==============================] - 26s 915ms/step - loss: 0.3098 - accuracy: 0.8748 - val_loss: 0.3666 - val_accuracy: 0.8686\n",
      "Epoch 12/15\n",
      "28/28 [==============================] - 26s 936ms/step - loss: 0.2644 - accuracy: 0.8934 - val_loss: 0.2898 - val_accuracy: 0.8891\n",
      "Epoch 13/15\n",
      "28/28 [==============================] - 25s 900ms/step - loss: 0.2566 - accuracy: 0.8988 - val_loss: 0.3152 - val_accuracy: 0.8914\n",
      "Epoch 14/15\n",
      "28/28 [==============================] - 25s 895ms/step - loss: 0.2375 - accuracy: 0.9074 - val_loss: 0.2702 - val_accuracy: 0.9063\n",
      "Epoch 15/15\n",
      "28/28 [==============================] - 26s 927ms/step - loss: 0.2498 - accuracy: 0.8985 - val_loss: 0.2799 - val_accuracy: 0.8926\n"
     ]
    }
   ],
   "source": [
    "hist=classifier.fit(X_train,one_hot_train,epochs=15,batch_size=128,validation_split=0.2)"
   ]
  },
  {
   "cell_type": "markdown",
   "metadata": {},
   "source": [
    "# Test Loss and Accuracy"
   ]
  },
  {
   "cell_type": "code",
   "execution_count": 66,
   "metadata": {},
   "outputs": [
    {
     "name": "stdout",
     "output_type": "stream",
     "text": [
      "147/147 [==============================] - 9s 59ms/step - loss: 0.3077 - accuracy: 0.8919\n"
     ]
    },
    {
     "data": {
      "text/plain": [
       "(0.3076852858066559, 0.8919437527656555)"
      ]
     },
     "execution_count": 66,
     "metadata": {},
     "output_type": "execute_result"
    }
   ],
   "source": [
    "test_loss,test_acc=classifier.evaluate(X_test,one_hot_test)\n",
    "test_loss,test_acc"
   ]
  },
  {
   "cell_type": "markdown",
   "metadata": {},
   "source": [
    "# Learning Curve"
   ]
  },
  {
   "cell_type": "code",
   "execution_count": 67,
   "metadata": {},
   "outputs": [
    {
     "data": {
      "image/png": "[encoded data removed]",
      "text/plain": [
       "<Figure size 432x288 with 1 Axes>"
      ]
     },
     "metadata": {
      "needs_background": "light"
     },
     "output_type": "display_data"
    }
   ],
   "source": [
    "plt.plot(hist.history['loss'])\n",
    "plt.plot(hist.history['val_loss'])\n",
    "plt.title('Classifier Loss')\n",
    "plt.ylabel('Loss')\n",
    "plt.xlabel('Epoch')\n",
    "plt.legend(['Train','Validation'],loc='upper right')\n",
    "plt.show()"
   ]
  },
  {
   "cell_type": "code",
   "execution_count": 68,
   "metadata": {},
   "outputs": [
    {
     "data": {
      "image/png": "[encoded data removed]",
      "text/plain": [
       "<Figure size 432x288 with 1 Axes>"
      ]
     },
     "metadata": {
      "needs_background": "light"
     },
     "output_type": "display_data"
    }
   ],
   "source": [
    "plt.plot(hist.history['accuracy'])\n",
    "plt.plot(hist.history['val_accuracy'])\n",
    "plt.title('Classifier Accuracy')\n",
    "plt.ylabel('Accuracy')\n",
    "plt.xlabel('Epoch')\n",
    "plt.legend(['Train','Validation'],loc='upper left')\n",
    "plt.show()"
   ]
  },
  {
   "cell_type": "code",
   "execution_count": 69,
   "metadata": {},
   "outputs": [
    {
     "name": "stdout",
     "output_type": "stream",
     "text": [
      "WARNING:tensorflow:From <ipython-input-69-854682126fea>:1: Sequential.predict_classes (from tensorflow.python.keras.engine.sequential) is deprecated and will be removed after 2021-01-01.\n",
      "Instructions for updating:\n",
      "Please use instead:* `np.argmax(model.predict(x), axis=-1)`,   if your model does multi-class classification   (e.g. if it uses a `softmax` last-layer activation).* `(model.predict(x) > 0.5).astype(\"int32\")`,   if your model does binary classification   (e.g. if it uses a `sigmoid` last-layer activation).\n"
     ]
    },
    {
     "data": {
      "text/plain": [
       "array([4, 1, 0, ..., 2, 3, 1], dtype=int64)"
      ]
     },
     "execution_count": 69,
     "metadata": {},
     "output_type": "execute_result"
    }
   ],
   "source": [
    "y_pred=classifier.predict_classes(X_test)\n",
    "y_pred"
   ]
  },
  {
   "cell_type": "code",
   "execution_count": 70,
   "metadata": {},
   "outputs": [
    {
     "name": "stdout",
     "output_type": "stream",
     "text": [
      "WARNING:tensorflow:From <ipython-input-70-1e0afbf15335>:1: Sequential.predict_proba (from tensorflow.python.keras.engine.sequential) is deprecated and will be removed after 2021-01-01.\n",
      "Instructions for updating:\n",
      "Please use `model.predict()` instead.\n"
     ]
    },
    {
     "data": {
      "text/plain": [
       "array([[7.14589730e-02, 1.32831438e-02, 1.68397278e-02, 2.53803632e-03,\n",
       "        8.95880163e-01],\n",
       "       [4.90916520e-03, 9.94989574e-01, 6.32113370e-06, 9.29076923e-05,\n",
       "        2.14401825e-06],\n",
       "       [5.57092130e-01, 2.89514810e-01, 1.42655328e-01, 9.74468049e-03,\n",
       "        9.93023161e-04],\n",
       "       ...,\n",
       "       [4.94367853e-02, 3.40145919e-03, 9.46799099e-01, 1.04769315e-04,\n",
       "        2.57955893e-04],\n",
       "       [3.55624594e-02, 2.08594203e-02, 8.49915482e-03, 9.34541285e-01,\n",
       "        5.37610264e-04],\n",
       "       [3.16701306e-04, 9.99677658e-01, 2.77005529e-06, 2.06049231e-06,\n",
       "        8.46333535e-07]], dtype=float32)"
      ]
     },
     "execution_count": 70,
     "metadata": {},
     "output_type": "execute_result"
    }
   ],
   "source": [
    "y_prob=classifier.predict_proba(X_test)\n",
    "y_prob"
   ]
  },
  {
   "cell_type": "code",
   "execution_count": 36,
   "metadata": {},
   "outputs": [
    {
     "data": {
      "text/plain": [
       "<matplotlib.legend.Legend at 0x21622996d30>"
      ]
     },
     "execution_count": 36,
     "metadata": {},
     "output_type": "execute_result"
    },
    {
     "data": {
      "image/png": "[encoded data removed]",
      "text/plain": [
       "<Figure size 432x288 with 1 Axes>"
      ]
     },
     "metadata": {
      "needs_background": "light"
     },
     "output_type": "display_data"
    }
   ],
   "source": [
    "from sklearn.metrics import roc_curve, auc\n",
    "\n",
    "fpr = {}\n",
    "tpr = {}\n",
    "thresh ={}\n",
    "roc_auc={}\n",
    "\n",
    "n_class = 4\n",
    "\n",
    "for i in range(n_class):    \n",
    "    fpr[i], tpr[i], thresh[i] = roc_curve(y_test, y_prob[:,i], pos_label=i)\n",
    "    roc_auc[i] = auc(fpr[i], tpr[i])\n",
    "      \n",
    "plt.plot(fpr[0], tpr[0], color='orange',label='Blight AUC = %0.3f' % roc_auc[0])\n",
    "plt.plot(fpr[1], tpr[1], color='green',label='Common_Rust AUC = %0.3f' % roc_auc[1])\n",
    "plt.plot(fpr[2], tpr[2], color='blue',label='Gray_Leaf_Spot AUC = %0.3f' % roc_auc[2])\n",
    "plt.plot(fpr[3], tpr[3], color='yellow',label='Hea AUC = %0.3f' % roc_auc[3])\n",
    "plt.plot(fpr[3], tpr[3], color='red',label='Healthy AUC = %0.3f' % roc_auc[3])\n",
    " \n",
    "plt.title('Corn Leaves Diseases ROC curve')\n",
    "plt.xlabel('False Positive Rate')\n",
    "plt.ylabel('True Positive rate')\n",
    "plt.legend(loc='best')"
   ]
  },
  {
   "cell_type": "code",
   "execution_count": 37,
   "metadata": {},
   "outputs": [
    {
     "data": {
      "image/png": "[encoded data removed]",
      "text/plain": [
       "<Figure size 432x288 with 2 Axes>"
      ]
     },
     "metadata": {
      "needs_background": "light"
     },
     "output_type": "display_data"
    }
   ],
   "source": [
    "from sklearn.metrics import confusion_matrix\n",
    "\n",
    "sns.heatmap(confusion_matrix(y_test,y_pred))\n",
    "cm=confusion_matrix(y_test,y_pred)"
   ]
  },
  {
   "cell_type": "code",
   "execution_count": null,
   "metadata": {},
   "outputs": [],
   "source": []
  }
 ],
 "metadata": {
  "kernelspec": {
   "display_name": "Python 3",
   "language": "python",
   "name": "python3"
  },
  "language_info": {
   "codemirror_mode": {
    "name": "ipython",
    "version": 3
   },
   "file_extension": ".py",
   "mimetype": "text/x-python",
   "name": "python",
   "nbconvert_exporter": "python",
   "pygments_lexer": "ipython3",
   "version": "3.8.3"
  }
 },
 "nbformat": 4,
 "nbformat_minor": 4
}
