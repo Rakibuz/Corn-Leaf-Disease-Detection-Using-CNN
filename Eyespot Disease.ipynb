{
 "cells": [
  {
   "cell_type": "code",
   "execution_count": 4,
   "metadata": {},
   "outputs": [],
   "source": [
    "import pandas as pd\n",
    "import cv2 as cv\n",
    "import numpy as np\n",
    "import matplotlib.pyplot as plt\n",
    "import os\n",
    "import seaborn as sns\n",
    "from tensorflow import keras \n",
    "import tensorflow as tf"
   ]
  },
  {
   "cell_type": "markdown",
   "metadata": {},
   "source": [
    "# Dataset Generatin"
   ]
  },
  {
   "cell_type": "code",
   "execution_count": 5,
   "metadata": {},
   "outputs": [],
   "source": [
    "import glob\n",
    "from PIL import Image\n",
    "from io import BytesIO"
   ]
  },
  {
   "cell_type": "code",
   "execution_count": 6,
   "metadata": {},
   "outputs": [],
   "source": [
    "from tensorflow.keras.preprocessing.image import ImageDataGenerator, array_to_img, img_to_array, load_img\n",
    "datagen_new = ImageDataGenerator(\n",
    "        rotation_range=40,\n",
    "        width_shift_range=0.2,\n",
    "        height_shift_range=0.2,\n",
    "        shear_range=0.2,\n",
    "        zoom_range=0.2,\n",
    "        horizontal_flip=True,\n",
    "        fill_mode='nearest',\n",
    "        data_format='channels_last', \n",
    "        brightness_range=[0.5, 1.5]\n",
    ")\n",
    "\n",
    " \n",
    "images=glob.glob(\"F:\\BD MSc\\Jahangirnagar MSc\\MSc Research\\Leaf Disease\\Corn Leaves Diseases Detection\\Implementation\\Eye Spot Disease\\Perfect\\*.*\")\n",
    "for image in images:\n",
    "    img = Image.open(image)\n",
    "    output = BytesIO()\n",
    "    \n",
    "    if img.mode == \"JPEG\":\n",
    "        img.save(output, format='JPEG', quality=95)\n",
    "    elif img.mode in [\"RGBA\", \"P\"]:\n",
    "        img = img.convert(\"RGB\")\n",
    "        img.save(output, format='JPEG', quality=95)\n",
    "    \n",
    "    x = img_to_array(img)  # this is a Numpy array with shape (3, 150, 150)\n",
    "    x = x.reshape((1,) + x.shape)  # this is a Numpy array with shape (1, 3, 150, 150)\n",
    "    \n",
    "        \n",
    "    # the .flow() command below generates batches of randomly transformed images\n",
    "    # and saves the results to the `preview/` directory\n",
    "    store='F:\\BD MSc\\Jahangirnagar MSc\\MSc Research\\Leaf Disease\\Corn Leaves Diseases Detection\\Implementation\\Eye Spot Disease\\Augmented Eyespot'\n",
    "    i = 0\n",
    "    for batch in datagen_new.flow(x, batch_size=1,\n",
    "                              save_to_dir=store, save_prefix='a_Eyespot', save_format='jpeg'):\n",
    "        i += 1\n",
    "        if i > 10:\n",
    "            break  # otherwise the generator would loop indefinitely"
   ]
  },
  {
   "cell_type": "markdown",
   "metadata": {},
   "source": [
    "# Dataset Loading"
   ]
  },
  {
   "cell_type": "code",
   "execution_count": 9,
   "metadata": {},
   "outputs": [],
   "source": [
    "train_data_path=r\"F:\\BD MSc\\Jahangirnagar MSc\\MSc Research\\Leaf Disease\\Corn Leaves Diseases Detection\\Implementation\\Eye Spot Disease\\Augmented Eyespot\"\n",
    "test_data_path=r\"F:\\BD MSc\\Jahangirnagar MSc\\MSc Research\\Leaf Disease\\Corn Leaves Diseases Detection\\Implementation\\Eye Spot Disease\\Test\""
   ]
  },
  {
   "cell_type": "markdown",
   "metadata": {},
   "source": [
    "# Train & Test Data Separation"
   ]
  },
  {
   "cell_type": "code",
   "execution_count": 55,
   "metadata": {},
   "outputs": [],
   "source": [
    "train_data=[]\n",
    "path=os.path.join(train_data_path)\n",
    "label=0\n",
    "for img_file in os.listdir(path):\n",
    "    img=cv.imread(os.path.join(path,img_file),1)\n",
    "    img=cv.cvtColor(img,cv.COLOR_BGR2RGB)\n",
    "    img=cv.resize(img,(64,64))            \n",
    "    train_data.append([img,label])"
   ]
  },
  {
   "cell_type": "code",
   "execution_count": 56,
   "metadata": {},
   "outputs": [
    {
     "name": "stdout",
     "output_type": "stream",
     "text": [
      "186\n"
     ]
    }
   ],
   "source": [
    "print(len(train_data))"
   ]
  },
  {
   "cell_type": "code",
   "execution_count": 57,
   "metadata": {},
   "outputs": [],
   "source": [
    "test_data=[]\n",
    "path=os.path.join(test_data_path)\n",
    "label=0\n",
    "for img_file in os.listdir(path):\n",
    "    img=cv.imread(os.path.join(path,img_file),1)\n",
    "    if(img is not None):\n",
    "        img=cv.cvtColor(img,cv.COLOR_BGR2RGB)\n",
    "        img=cv.resize(img,(64,64))            \n",
    "        test_data.append([img,label])"
   ]
  },
  {
   "cell_type": "code",
   "execution_count": 58,
   "metadata": {},
   "outputs": [
    {
     "name": "stdout",
     "output_type": "stream",
     "text": [
      "60\n"
     ]
    }
   ],
   "source": [
    "print(len(test_data))"
   ]
  },
  {
   "cell_type": "markdown",
   "metadata": {},
   "source": [
    "# Test Train Split"
   ]
  },
  {
   "cell_type": "code",
   "execution_count": 59,
   "metadata": {},
   "outputs": [],
   "source": [
    "X_train=[]\n",
    "y_train=[]"
   ]
  },
  {
   "cell_type": "code",
   "execution_count": 60,
   "metadata": {},
   "outputs": [],
   "source": [
    "for features,label in train_data:\n",
    "    X_train.append(features)\n",
    "    y_train.append(label)"
   ]
  },
  {
   "cell_type": "code",
   "execution_count": 61,
   "metadata": {},
   "outputs": [
    {
     "data": {
      "text/plain": [
       "(186, 186)"
      ]
     },
     "execution_count": 61,
     "metadata": {},
     "output_type": "execute_result"
    }
   ],
   "source": [
    "len(X_train),len(y_train)"
   ]
  },
  {
   "cell_type": "code",
   "execution_count": 62,
   "metadata": {},
   "outputs": [],
   "source": [
    "X_test=[]\n",
    "y_test=[]\n",
    "\n",
    "for features,label in test_data:\n",
    "    X_test.append(features)\n",
    "    y_test.append(label)"
   ]
  },
  {
   "cell_type": "code",
   "execution_count": 63,
   "metadata": {},
   "outputs": [
    {
     "data": {
      "text/plain": [
       "(60, 60)"
      ]
     },
     "execution_count": 63,
     "metadata": {},
     "output_type": "execute_result"
    }
   ],
   "source": [
    "len(X_test),len(y_test)"
   ]
  },
  {
   "cell_type": "markdown",
   "metadata": {},
   "source": [
    "# Reshaping Test&Train Data"
   ]
  },
  {
   "cell_type": "code",
   "execution_count": 64,
   "metadata": {},
   "outputs": [
    {
     "data": {
      "text/plain": [
       "(186, 64, 64, 3)"
      ]
     },
     "execution_count": 64,
     "metadata": {},
     "output_type": "execute_result"
    }
   ],
   "source": [
    "X_train=np.array(X_train).reshape(-1,64,64,3)\n",
    "X_train=X_train/255.0\n",
    "X_train.shape"
   ]
  },
  {
   "cell_type": "code",
   "execution_count": 65,
   "metadata": {},
   "outputs": [
    {
     "data": {
      "text/plain": [
       "(60, 64, 64, 3)"
      ]
     },
     "execution_count": 65,
     "metadata": {},
     "output_type": "execute_result"
    }
   ],
   "source": [
    "X_test=np.array(X_test).reshape(-1,64,64,3)\n",
    "X_test=X_test/255.0\n",
    "X_test.shape"
   ]
  },
  {
   "cell_type": "code",
   "execution_count": 66,
   "metadata": {},
   "outputs": [
    {
     "data": {
      "text/plain": [
       "array([[1.],\n",
       "       [1.],\n",
       "       [1.],\n",
       "       [1.],\n",
       "       [1.],\n",
       "       [1.],\n",
       "       [1.],\n",
       "       [1.],\n",
       "       [1.],\n",
       "       [1.],\n",
       "       [1.],\n",
       "       [1.],\n",
       "       [1.],\n",
       "       [1.],\n",
       "       [1.],\n",
       "       [1.],\n",
       "       [1.],\n",
       "       [1.],\n",
       "       [1.],\n",
       "       [1.],\n",
       "       [1.],\n",
       "       [1.],\n",
       "       [1.],\n",
       "       [1.],\n",
       "       [1.],\n",
       "       [1.],\n",
       "       [1.],\n",
       "       [1.],\n",
       "       [1.],\n",
       "       [1.],\n",
       "       [1.],\n",
       "       [1.],\n",
       "       [1.],\n",
       "       [1.],\n",
       "       [1.],\n",
       "       [1.],\n",
       "       [1.],\n",
       "       [1.],\n",
       "       [1.],\n",
       "       [1.],\n",
       "       [1.],\n",
       "       [1.],\n",
       "       [1.],\n",
       "       [1.],\n",
       "       [1.],\n",
       "       [1.],\n",
       "       [1.],\n",
       "       [1.],\n",
       "       [1.],\n",
       "       [1.],\n",
       "       [1.],\n",
       "       [1.],\n",
       "       [1.],\n",
       "       [1.],\n",
       "       [1.],\n",
       "       [1.],\n",
       "       [1.],\n",
       "       [1.],\n",
       "       [1.],\n",
       "       [1.],\n",
       "       [1.],\n",
       "       [1.],\n",
       "       [1.],\n",
       "       [1.],\n",
       "       [1.],\n",
       "       [1.],\n",
       "       [1.],\n",
       "       [1.],\n",
       "       [1.],\n",
       "       [1.],\n",
       "       [1.],\n",
       "       [1.],\n",
       "       [1.],\n",
       "       [1.],\n",
       "       [1.],\n",
       "       [1.],\n",
       "       [1.],\n",
       "       [1.],\n",
       "       [1.],\n",
       "       [1.],\n",
       "       [1.],\n",
       "       [1.],\n",
       "       [1.],\n",
       "       [1.],\n",
       "       [1.],\n",
       "       [1.],\n",
       "       [1.],\n",
       "       [1.],\n",
       "       [1.],\n",
       "       [1.],\n",
       "       [1.],\n",
       "       [1.],\n",
       "       [1.],\n",
       "       [1.],\n",
       "       [1.],\n",
       "       [1.],\n",
       "       [1.],\n",
       "       [1.],\n",
       "       [1.],\n",
       "       [1.],\n",
       "       [1.],\n",
       "       [1.],\n",
       "       [1.],\n",
       "       [1.],\n",
       "       [1.],\n",
       "       [1.],\n",
       "       [1.],\n",
       "       [1.],\n",
       "       [1.],\n",
       "       [1.],\n",
       "       [1.],\n",
       "       [1.],\n",
       "       [1.],\n",
       "       [1.],\n",
       "       [1.],\n",
       "       [1.],\n",
       "       [1.],\n",
       "       [1.],\n",
       "       [1.],\n",
       "       [1.],\n",
       "       [1.],\n",
       "       [1.],\n",
       "       [1.],\n",
       "       [1.],\n",
       "       [1.],\n",
       "       [1.],\n",
       "       [1.],\n",
       "       [1.],\n",
       "       [1.],\n",
       "       [1.],\n",
       "       [1.],\n",
       "       [1.],\n",
       "       [1.],\n",
       "       [1.],\n",
       "       [1.],\n",
       "       [1.],\n",
       "       [1.],\n",
       "       [1.],\n",
       "       [1.],\n",
       "       [1.],\n",
       "       [1.],\n",
       "       [1.],\n",
       "       [1.],\n",
       "       [1.],\n",
       "       [1.],\n",
       "       [1.],\n",
       "       [1.],\n",
       "       [1.],\n",
       "       [1.],\n",
       "       [1.],\n",
       "       [1.],\n",
       "       [1.],\n",
       "       [1.],\n",
       "       [1.],\n",
       "       [1.],\n",
       "       [1.],\n",
       "       [1.],\n",
       "       [1.],\n",
       "       [1.],\n",
       "       [1.],\n",
       "       [1.],\n",
       "       [1.],\n",
       "       [1.],\n",
       "       [1.],\n",
       "       [1.],\n",
       "       [1.],\n",
       "       [1.],\n",
       "       [1.],\n",
       "       [1.],\n",
       "       [1.],\n",
       "       [1.],\n",
       "       [1.],\n",
       "       [1.],\n",
       "       [1.],\n",
       "       [1.],\n",
       "       [1.],\n",
       "       [1.],\n",
       "       [1.],\n",
       "       [1.],\n",
       "       [1.],\n",
       "       [1.],\n",
       "       [1.],\n",
       "       [1.],\n",
       "       [1.],\n",
       "       [1.],\n",
       "       [1.]], dtype=float32)"
      ]
     },
     "execution_count": 66,
     "metadata": {},
     "output_type": "execute_result"
    }
   ],
   "source": [
    "from tensorflow.keras.utils import to_categorical\n",
    "one_hot_train=to_categorical(y_train)\n",
    "one_hot_train"
   ]
  },
  {
   "cell_type": "code",
   "execution_count": 67,
   "metadata": {},
   "outputs": [
    {
     "data": {
      "text/plain": [
       "array([[1],\n",
       "       [1],\n",
       "       [1],\n",
       "       [1],\n",
       "       [1],\n",
       "       [1],\n",
       "       [1],\n",
       "       [1],\n",
       "       [1],\n",
       "       [1],\n",
       "       [1],\n",
       "       [1],\n",
       "       [1],\n",
       "       [1],\n",
       "       [1],\n",
       "       [1],\n",
       "       [1],\n",
       "       [1],\n",
       "       [1],\n",
       "       [1],\n",
       "       [1],\n",
       "       [1],\n",
       "       [1],\n",
       "       [1],\n",
       "       [1],\n",
       "       [1],\n",
       "       [1],\n",
       "       [1],\n",
       "       [1],\n",
       "       [1],\n",
       "       [1],\n",
       "       [1],\n",
       "       [1],\n",
       "       [1],\n",
       "       [1],\n",
       "       [1],\n",
       "       [1],\n",
       "       [1],\n",
       "       [1],\n",
       "       [1],\n",
       "       [1],\n",
       "       [1],\n",
       "       [1],\n",
       "       [1],\n",
       "       [1],\n",
       "       [1],\n",
       "       [1],\n",
       "       [1],\n",
       "       [1],\n",
       "       [1],\n",
       "       [1],\n",
       "       [1],\n",
       "       [1],\n",
       "       [1],\n",
       "       [1],\n",
       "       [1],\n",
       "       [1],\n",
       "       [1],\n",
       "       [1],\n",
       "       [1]])"
      ]
     },
     "execution_count": 67,
     "metadata": {},
     "output_type": "execute_result"
    }
   ],
   "source": [
    "one_hot_test=to_categorical(y_test,dtype=\"int32\")\n",
    "one_hot_test"
   ]
  },
  {
   "cell_type": "markdown",
   "metadata": {},
   "source": [
    "# Building Convolutional Neural Network"
   ]
  },
  {
   "cell_type": "code",
   "execution_count": 68,
   "metadata": {},
   "outputs": [],
   "source": [
    "from tensorflow.keras import layers\n",
    "from tensorflow.keras.models import Sequential\n",
    "from tensorflow.keras.layers import Conv2D,Dense,Flatten,MaxPooling2D,Dropout"
   ]
  },
  {
   "cell_type": "code",
   "execution_count": 84,
   "metadata": {},
   "outputs": [],
   "source": [
    "classifier=Sequential([\n",
    "   layers.Conv2D(32,(3,3), input_shape=(64,64,3), activation='relu'),\n",
    "   layers.MaxPooling2D(pool_size=(2,2)),\n",
    "   layers.Dropout(0.2),                \n",
    "   layers.Conv2D(64,(3,3), activation='relu'),\n",
    "   layers.MaxPooling2D(pool_size=(2,2)),\n",
    "   layers.Dropout(0.2),\n",
    "   layers.Conv2D(128,(3,3), activation='relu'),\n",
    "   layers.MaxPooling2D(pool_size=(2,2)),\n",
    "   layers.Dropout(0.2),\n",
    "   layers.Flatten(),\n",
    "   layers.Dense(activation='relu', units=64),\n",
    "   layers.Dense(activation='relu', units=128),\n",
    "   layers.Dense(activation='relu', units=64),\n",
    "   layers.Dense(activation='softmax', units=10)\n",
    "\n",
    "])"
   ]
  },
  {
   "cell_type": "code",
   "execution_count": 85,
   "metadata": {},
   "outputs": [],
   "source": [
    "classifier.compile(optimizer='adam', loss='binary_crossentropy', metrics=['accuracy'])"
   ]
  },
  {
   "cell_type": "code",
   "execution_count": 86,
   "metadata": {},
   "outputs": [
    {
     "name": "stdout",
     "output_type": "stream",
     "text": [
      "Model: \"sequential_5\"\n",
      "_________________________________________________________________\n",
      "Layer (type)                 Output Shape              Param #   \n",
      "=================================================================\n",
      "conv2d_15 (Conv2D)           (None, 62, 62, 32)        896       \n",
      "_________________________________________________________________\n",
      "max_pooling2d_15 (MaxPooling (None, 31, 31, 32)        0         \n",
      "_________________________________________________________________\n",
      "dropout_15 (Dropout)         (None, 31, 31, 32)        0         \n",
      "_________________________________________________________________\n",
      "conv2d_16 (Conv2D)           (None, 29, 29, 64)        18496     \n",
      "_________________________________________________________________\n",
      "max_pooling2d_16 (MaxPooling (None, 14, 14, 64)        0         \n",
      "_________________________________________________________________\n",
      "dropout_16 (Dropout)         (None, 14, 14, 64)        0         \n",
      "_________________________________________________________________\n",
      "conv2d_17 (Conv2D)           (None, 12, 12, 128)       73856     \n",
      "_________________________________________________________________\n",
      "max_pooling2d_17 (MaxPooling (None, 6, 6, 128)         0         \n",
      "_________________________________________________________________\n",
      "dropout_17 (Dropout)         (None, 6, 6, 128)         0         \n",
      "_________________________________________________________________\n",
      "flatten_5 (Flatten)          (None, 4608)              0         \n",
      "_________________________________________________________________\n",
      "dense_20 (Dense)             (None, 64)                294976    \n",
      "_________________________________________________________________\n",
      "dense_21 (Dense)             (None, 128)               8320      \n",
      "_________________________________________________________________\n",
      "dense_22 (Dense)             (None, 64)                8256      \n",
      "_________________________________________________________________\n",
      "dense_23 (Dense)             (None, 10)                650       \n",
      "=================================================================\n",
      "Total params: 405,450\n",
      "Trainable params: 405,450\n",
      "Non-trainable params: 0\n",
      "_________________________________________________________________\n"
     ]
    }
   ],
   "source": [
    "classifier.summary()"
   ]
  },
  {
   "cell_type": "code",
   "execution_count": 87,
   "metadata": {},
   "outputs": [
    {
     "name": "stdout",
     "output_type": "stream",
     "text": [
      "Epoch 1/15\n",
      "2/2 [==============================] - 1s 343ms/step - loss: 2.3069 - accuracy: 0.0000e+00 - val_loss: 2.3027 - val_accuracy: 0.0000e+00\n",
      "Epoch 2/15\n",
      "2/2 [==============================] - 0s 177ms/step - loss: 2.3034 - accuracy: 0.0068 - val_loss: 2.3026 - val_accuracy: 0.0000e+00\n",
      "Epoch 3/15\n",
      "2/2 [==============================] - 0s 112ms/step - loss: 2.3028 - accuracy: 0.0068 - val_loss: 2.3026 - val_accuracy: 0.0000e+00\n",
      "Epoch 4/15\n",
      "2/2 [==============================] - 0s 110ms/step - loss: 2.3026 - accuracy: 0.0608 - val_loss: 2.3026 - val_accuracy: 0.0000e+00\n",
      "Epoch 5/15\n",
      "2/2 [==============================] - 0s 137ms/step - loss: 2.3026 - accuracy: 0.0068 - val_loss: 2.3026 - val_accuracy: 0.0000e+00\n",
      "Epoch 6/15\n",
      "2/2 [==============================] - 0s 118ms/step - loss: 2.3026 - accuracy: 0.0068 - val_loss: 2.3026 - val_accuracy: 0.0000e+00\n",
      "Epoch 7/15\n",
      "2/2 [==============================] - 0s 130ms/step - loss: 2.3026 - accuracy: 0.0135 - val_loss: 2.3026 - val_accuracy: 0.2105\n",
      "Epoch 8/15\n",
      "2/2 [==============================] - 0s 129ms/step - loss: 2.3026 - accuracy: 0.1689 - val_loss: 2.3026 - val_accuracy: 0.9211\n",
      "Epoch 9/15\n",
      "2/2 [==============================] - 0s 122ms/step - loss: 2.3026 - accuracy: 0.6351 - val_loss: 2.3026 - val_accuracy: 0.8947\n",
      "Epoch 10/15\n",
      "2/2 [==============================] - 0s 146ms/step - loss: 2.3026 - accuracy: 0.8108 - val_loss: 2.3026 - val_accuracy: 0.9211\n",
      "Epoch 11/15\n",
      "2/2 [==============================] - 0s 126ms/step - loss: 2.3026 - accuracy: 0.8446 - val_loss: 2.3026 - val_accuracy: 0.9211\n",
      "Epoch 12/15\n",
      "2/2 [==============================] - 0s 121ms/step - loss: 2.3026 - accuracy: 0.8311 - val_loss: 2.3026 - val_accuracy: 1.0000\n",
      "Epoch 13/15\n",
      "2/2 [==============================] - 0s 126ms/step - loss: 2.3026 - accuracy: 0.8446 - val_loss: 2.3026 - val_accuracy: 1.0000\n",
      "Epoch 14/15\n",
      "2/2 [==============================] - 0s 119ms/step - loss: 2.3026 - accuracy: 0.9054 - val_loss: 2.3026 - val_accuracy: 1.0000\n",
      "Epoch 15/15\n",
      "2/2 [==============================] - 0s 111ms/step - loss: 2.3026 - accuracy: 0.9324 - val_loss: 2.3026 - val_accuracy: 1.0000\n"
     ]
    }
   ],
   "source": [
    "hist=classifier.fit(X_train,one_hot_train,epochs=15,batch_size=128,validation_split=0.2)"
   ]
  },
  {
   "cell_type": "code",
   "execution_count": null,
   "metadata": {},
   "outputs": [],
   "source": []
  }
 ],
 "metadata": {
  "kernelspec": {
   "display_name": "Python 3",
   "language": "python",
   "name": "python3"
  },
  "language_info": {
   "codemirror_mode": {
    "name": "ipython",
    "version": 3
   },
   "file_extension": ".py",
   "mimetype": "text/x-python",
   "name": "python",
   "nbconvert_exporter": "python",
   "pygments_lexer": "ipython3",
   "version": "3.8.3"
  }
 },
 "nbformat": 4,
 "nbformat_minor": 4
}
