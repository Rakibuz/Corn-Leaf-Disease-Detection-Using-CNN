{
 "cells": [
  {
   "cell_type": "code",
   "execution_count": 1,
   "metadata": {},
   "outputs": [],
   "source": [
    "import glob\n",
    "from PIL import Image\n",
    "from io import BytesIO"
   ]
  },
  {
   "cell_type": "code",
   "execution_count": 38,
   "metadata": {},
   "outputs": [],
   "source": [
    "from tensorflow.keras.preprocessing.image import ImageDataGenerator, array_to_img, img_to_array, load_img\n",
    "datagen_new = ImageDataGenerator(\n",
    "        rotation_range=0,\n",
    "        width_shift_range=0.0,\n",
    "        height_shift_range=0.0,\n",
    "        shear_range=0.0,\n",
    "        zoom_range=0.0,\n",
    "        horizontal_flip=True,\n",
    "        fill_mode='nearest')\n",
    "\n",
    " \n",
    "images=glob.glob(\"F:\\BD MSc\\Jahangirnagar MSc\\MSc Research\\Report\\Augmentation\\*.*\")\n",
    "for image in images:\n",
    "    img = Image.open(image)\n",
    "    output = BytesIO()\n",
    "    \n",
    "    if img.mode == \"JPEG\":\n",
    "        img.save(output, format='JPEG', quality=95)\n",
    "    elif img.mode in [\"RGBA\", \"P\"]:\n",
    "        img = img.convert(\"RGB\")\n",
    "        img.save(output, format='JPEG', quality=95)\n",
    "    \n",
    "    x = img_to_array(img)  # this is a Numpy array with shape (3, 150, 150)\n",
    "    x = x.reshape((1,) + x.shape)  # this is a Numpy array with shape (1, 3, 150, 150)\n",
    "    \n",
    "        \n",
    "    # the .flow() command below generates batches of randomly transformed images\n",
    "    # and saves the results to the `preview/` directory\n",
    "    store='F:\\BD MSc\\Jahangirnagar MSc\\MSc Research\\Report\\Result_Augmentation'\n",
    "    i = 0\n",
    "    for batch in datagen_new.flow(x, batch_size=1,\n",
    "                              save_to_dir=store, save_prefix='a_healthy', save_format='jpeg'):\n",
    "        i += 1\n",
    "        if i > 0:\n",
    "            break  # otherwise the generator would loop indefinitely"
   ]
  },
  {
   "cell_type": "code",
   "execution_count": null,
   "metadata": {},
   "outputs": [],
   "source": []
  }
 ],
 "metadata": {
  "kernelspec": {
   "display_name": "Python 3",
   "language": "python",
   "name": "python3"
  },
  "language_info": {
   "codemirror_mode": {
    "name": "ipython",
    "version": 3
   },
   "file_extension": ".py",
   "mimetype": "text/x-python",
   "name": "python",
   "nbconvert_exporter": "python",
   "pygments_lexer": "ipython3",
   "version": "3.8.3"
  }
 },
 "nbformat": 4,
 "nbformat_minor": 4
}
